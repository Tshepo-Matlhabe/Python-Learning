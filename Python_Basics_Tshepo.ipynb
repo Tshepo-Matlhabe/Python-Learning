{
  "metadata": {
    "kernelspec": {
      "name": "python",
      "display_name": "Python (Pyodide)",
      "language": "python"
    },
    "language_info": {
      "codemirror_mode": {
        "name": "python",
        "version": 3
      },
      "file_extension": ".py",
      "mimetype": "text/x-python",
      "name": "python",
      "nbconvert_exporter": "python",
      "pygments_lexer": "ipython3",
      "version": "3.8"
    }
  },
  "nbformat_minor": 4,
  "nbformat": 4,
  "cells": [
    {
      "cell_type": "markdown",
      "source": "# Python Notes",
      "metadata": {}
    },
    {
      "cell_type": "markdown",
      "source": "## 1. Syntax",
      "metadata": {}
    },
    {
      "cell_type": "markdown",
      "source": "### 1 Indentation",
      "metadata": {}
    },
    {
      "cell_type": "markdown",
      "source": "Indentation refers to the spaces at the beginning of a code line.\n\r\nWhere in other programming languages the indentation in code is for readability only, the indentation in Python is very importan\n\r\n\r\nPython uses indentation to indicate a block of code.",
      "metadata": {}
    },
    {
      "cell_type": "code",
      "source": "#Example of how indentation works\nif 5 > 2:\n  print(\"Five is greater than two!\")",
      "metadata": {
        "trusted": true
      },
      "outputs": [
        {
          "name": "stdout",
          "text": "Five is greater than two!\n",
          "output_type": "stream"
        }
      ],
      "execution_count": 2
    },
    {
      "cell_type": "code",
      "source": "# Python will give you a syntax error if you skip the indentation:\nif 5 > 2:\nprint(\"Five is greater than two!\")",
      "metadata": {
        "trusted": true
      },
      "outputs": [
        {
          "ename": "<class 'IndentationError'>",
          "evalue": "expected an indented block after 'if' statement on line 2 (<ipython-input-3-4cfdfa82956f>, line 3)",
          "traceback": [
            "\u001b[0;36m  Cell \u001b[0;32mIn[3], line 3\u001b[0;36m\u001b[0m\n\u001b[0;31m    print(\"Five is greater than two!\")\u001b[0m\n\u001b[0m    ^\u001b[0m\n\u001b[0;31mIndentationError\u001b[0m\u001b[0;31m:\u001b[0m expected an indented block after 'if' statement on line 2\n"
          ],
          "output_type": "error"
        }
      ],
      "execution_count": 3
    },
    {
      "cell_type": "code",
      "source": "#The number of spaces is up to you as a programmer, the most common use is four, but it has to be at least one. Example:\nif 5 > 2:\n print(\"Five is greater than two!\") \nif 5 > 2:\n        print(\"Five is greater than two!\") ",
      "metadata": {
        "trusted": true
      },
      "outputs": [
        {
          "name": "stdout",
          "text": "Five is greater than two!\nFive is greater than two!\n",
          "output_type": "stream"
        }
      ],
      "execution_count": 4
    },
    {
      "cell_type": "code",
      "source": "#You have to use the same number of spaces in the same block of code, otherwise Python will give you an error: Example:\n\nif 5 > 2:\n print(\"Five is greater than two!\")\n        print(\"Five is greater than two!\")\n",
      "metadata": {
        "trusted": true
      },
      "outputs": [
        {
          "ename": "<class 'IndentationError'>",
          "evalue": "unexpected indent (<ipython-input-5-363476c8956e>, line 5)",
          "traceback": [
            "\u001b[0;36m  Cell \u001b[0;32mIn[5], line 5\u001b[0;36m\u001b[0m\n\u001b[0;31m    print(\"Five is greater than two!\")\u001b[0m\n\u001b[0m    ^\u001b[0m\n\u001b[0;31mIndentationError\u001b[0m\u001b[0;31m:\u001b[0m unexpected indent\n"
          ],
          "output_type": "error"
        }
      ],
      "execution_count": 5
    },
    {
      "cell_type": "markdown",
      "source": "### 2. Python Variables\nIn Python, variables are created when you assign a value to it:",
      "metadata": {}
    },
    {
      "cell_type": "code",
      "source": "#Variables in Python:\n\nx = 5\ny = \"Hello, World!\"\n\n#calling the variable\nx",
      "metadata": {
        "trusted": true
      },
      "outputs": [
        {
          "execution_count": 7,
          "output_type": "execute_result",
          "data": {
            "text/plain": "5"
          },
          "metadata": {}
        }
      ],
      "execution_count": 7
    },
    {
      "cell_type": "markdown",
      "source": "#### 2.1 Casting\r\nIf you want to specify the data type of a variable, this can be done with casting.be 3.0",
      "metadata": {}
    },
    {
      "cell_type": "code",
      "source": "#Example\n\nx = str(3)    # x will be '3'\ny = int(3)    # y will be 3\nz = float(3)  # z will be 3.0",
      "metadata": {
        "trusted": true
      },
      "outputs": [],
      "execution_count": 10
    },
    {
      "cell_type": "markdown",
      "source": "#### 2.2 Get the Type\r\nYou can get the data type of a variable with the type() functionpe(y))\r\n",
      "metadata": {}
    },
    {
      "cell_type": "code",
      "source": "#Example\nx = 5\ny = \"John\"\nprint(type(x))\nprint(type(y))\n",
      "metadata": {
        "trusted": true
      },
      "outputs": [
        {
          "name": "stdout",
          "text": "<class 'int'>\n<class 'str'>\n",
          "output_type": "stream"
        }
      ],
      "execution_count": 11
    },
    {
      "cell_type": "markdown",
      "source": "#### 2.3 Case-Sensitive\r\nVariable names are case-sensitive.rwrite a",
      "metadata": {}
    },
    {
      "cell_type": "code",
      "source": "\"\"\"\nExample\nThis will create two variables:\n\"\"\"\n\na = 4\nA = \"Sally\"\n#A will not overwrite a\n\nprint(a)\nprint(A)",
      "metadata": {
        "trusted": true
      },
      "outputs": [
        {
          "name": "stdout",
          "text": "4\nSally\n",
          "output_type": "stream"
        }
      ],
      "execution_count": 15
    },
    {
      "cell_type": "markdown",
      "source": "#### 2.4 Many Values to Multiple Variables\r\nPython allows you to assign values to multiple variables in one linerint(z)",
      "metadata": {}
    },
    {
      "cell_type": "code",
      "source": "#Example\nx, y, z = \"Orange\", \"Banana\", \"Cherry\"\nprint(x)\nprint(y)\nprint(z)",
      "metadata": {
        "trusted": true
      },
      "outputs": [
        {
          "name": "stdout",
          "text": "Orange\nBanana\nCherry\n",
          "output_type": "stream"
        }
      ],
      "execution_count": 16
    },
    {
      "cell_type": "markdown",
      "source": "#### 2.5 One Value to Multiple Variables\r\nAnd you can assign the same value to multiple variables in one line:rint(z)",
      "metadata": {}
    },
    {
      "cell_type": "code",
      "source": "#Example\nx = y = z = \"Orange\"\nprint(x)\nprint(y)\nprint(z)",
      "metadata": {
        "trusted": true
      },
      "outputs": [
        {
          "name": "stdout",
          "text": "Orange\nOrange\nOrange\n",
          "output_type": "stream"
        }
      ],
      "execution_count": 17
    },
    {
      "cell_type": "markdown",
      "source": "#### 2.6 Unpack a Collection\r\nIf you have a collection of values in a list, tuple etc. Python allows you to extract the values into variables. This is called unpacking\r\nprint(z)",
      "metadata": {}
    },
    {
      "cell_type": "code",
      "source": "\"\"\"\nExample\nUnpack a list:\n\"\"\"\n\nfruits = [\"apple\", \"banana\", \"cherry\"]\nx, y, z = fruits\nprint(x)\nprint(y)\nprint(z)",
      "metadata": {
        "trusted": true
      },
      "outputs": [
        {
          "name": "stdout",
          "text": "apple\nbanana\ncherry\n",
          "output_type": "stream"
        }
      ],
      "execution_count": 19
    },
    {
      "cell_type": "markdown",
      "source": "#### 2.7 Output Variables\r\nThe Python print() function is often used to output variables\n\nIn the print() function, you output multiple variables, separated by a comma\n\nYou can also use the + operator to output multiple variables\n\nFor numbers, the + character works as a mathematical operator\n.",
      "metadata": {}
    },
    {
      "cell_type": "code",
      "source": "x = \"Python\"\ny = \"is\"\nz = \"awesome\"\nprint(x, y, z)",
      "metadata": {
        "trusted": true
      },
      "outputs": [
        {
          "name": "stdout",
          "text": "Python is awesome\n",
          "output_type": "stream"
        }
      ],
      "execution_count": 20
    },
    {
      "cell_type": "code",
      "source": "x = \"Python \"\ny = \"is \"\nz = \"awesome\"\nprint(x + y + z)\n#Notice the space character after \"Python \" and \"is \", without them the result would be \"Pythonisawesome\".",
      "metadata": {
        "trusted": true
      },
      "outputs": [
        {
          "name": "stdout",
          "text": "Python is awesome\n",
          "output_type": "stream"
        }
      ],
      "execution_count": 22
    },
    {
      "cell_type": "code",
      "source": "x = 5\ny = 10\nprint(x + y)",
      "metadata": {
        "trusted": true
      },
      "outputs": [
        {
          "name": "stdout",
          "text": "15\n",
          "output_type": "stream"
        }
      ],
      "execution_count": 23
    },
    {
      "cell_type": "markdown",
      "source": "In the print() function, when you try to combine a string and a number with the + operator, Python will give you an error:",
      "metadata": {}
    },
    {
      "cell_type": "code",
      "source": "x = 5\ny = \"John\"\nprint(x + y)",
      "metadata": {
        "trusted": true
      },
      "outputs": [
        {
          "ename": "<class 'TypeError'>",
          "evalue": "unsupported operand type(s) for +: 'int' and 'str'",
          "traceback": [
            "\u001b[0;31m---------------------------------------------------------------------------\u001b[0m",
            "\u001b[0;31mTypeError\u001b[0m                                 Traceback (most recent call last)",
            "Cell \u001b[0;32mIn[24], line 3\u001b[0m\n\u001b[1;32m      1\u001b[0m x \u001b[38;5;241m=\u001b[39m \u001b[38;5;241m5\u001b[39m\n\u001b[1;32m      2\u001b[0m y \u001b[38;5;241m=\u001b[39m \u001b[38;5;124m\"\u001b[39m\u001b[38;5;124mJohn\u001b[39m\u001b[38;5;124m\"\u001b[39m\n\u001b[0;32m----> 3\u001b[0m \u001b[38;5;28mprint\u001b[39m(\u001b[43mx\u001b[49m\u001b[43m \u001b[49m\u001b[38;5;241;43m+\u001b[39;49m\u001b[43m \u001b[49m\u001b[43my\u001b[49m)\n",
            "\u001b[0;31mTypeError\u001b[0m: unsupported operand type(s) for +: 'int' and 'str'"
          ],
          "output_type": "error"
        }
      ],
      "execution_count": 24
    },
    {
      "cell_type": "markdown",
      "source": "The best way to output multiple variables in the print() function is to separate them with commas, which even support different data types:\n",
      "metadata": {}
    },
    {
      "cell_type": "code",
      "source": "x = 5\ny = \"John\"\nprint(x, y)",
      "metadata": {
        "trusted": true
      },
      "outputs": [
        {
          "name": "stdout",
          "text": "5 John\n",
          "output_type": "stream"
        }
      ],
      "execution_count": 27
    },
    {
      "cell_type": "markdown",
      "source": "#### 2.8 Global Variables\r\nVariables that are created outside of a function (as in all of the examples above) are known as global variables.\r\n\r\nGlobal variables can be used by everyone, both inside of functions and outside.",
      "metadata": {}
    },
    {
      "cell_type": "code",
      "source": "\"\"\"\nExample\nCreate a variable outside of a function, and use it inside the function\n\"\"\"\n\nx = \"awesome\"\n\ndef myfunc():\n  print(\"Python is\",x)\n\nmyfunc()",
      "metadata": {
        "trusted": true
      },
      "outputs": [
        {
          "name": "stdout",
          "text": "Python is awesome\n",
          "output_type": "stream"
        }
      ],
      "execution_count": 31
    },
    {
      "cell_type": "markdown",
      "source": "If you create a variable with the same name inside a function, this variable will be local, and can only be used inside the function. The global variable with the same name will remain as it was, global and with the original value.",
      "metadata": {}
    },
    {
      "cell_type": "code",
      "source": "\"\"\"\nExample\nCreate a variable inside a function, with the same name as the global variable\n\"\"\"\n\nx = \"awesome\"\n\ndef myfunc():\n  x = \"fantastic\"\n  print(\"Python is \" + x)\n\nmyfunc()\n\nprint(\"Python is \" + x)",
      "metadata": {
        "trusted": true
      },
      "outputs": [
        {
          "name": "stdout",
          "text": "Python is fantastic\nPython is awesome\n",
          "output_type": "stream"
        }
      ],
      "execution_count": 32
    },
    {
      "cell_type": "code",
      "source": "txt = \"The best things in life are free!\"\nif \"free\" in txt:\n  print(\"Yes, 'free' is present.\")",
      "metadata": {
        "trusted": true
      },
      "outputs": [
        {
          "name": "stdout",
          "text": "Yes, 'free' is present.\n",
          "output_type": "stream"
        }
      ],
      "execution_count": 40
    },
    {
      "cell_type": "code",
      "source": "",
      "metadata": {
        "trusted": true
      },
      "outputs": [],
      "execution_count": null
    },
    {
      "cell_type": "code",
      "source": "",
      "metadata": {
        "trusted": true
      },
      "outputs": [],
      "execution_count": null
    }
  ]
}