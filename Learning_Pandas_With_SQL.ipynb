{
  "nbformat": 4,
  "nbformat_minor": 0,
  "metadata": {
    "colab": {
      "provenance": [],
      "toc_visible": true,
      "authorship_tag": "ABX9TyPPwjnp4Yt3oVZzVWsXt+sX",
      "include_colab_link": true
    },
    "kernelspec": {
      "name": "python3",
      "display_name": "Python 3"
    },
    "language_info": {
      "name": "python"
    }
  },
  "cells": [
    {
      "cell_type": "markdown",
      "metadata": {
        "id": "view-in-github",
        "colab_type": "text"
      },
      "source": [
        "<a href=\"https://colab.research.google.com/github/Tshepo-Matlhabe/Python-Learning/blob/main/Learning_Pandas_With_SQL.ipynb\" target=\"_parent\"><img src=\"https://colab.research.google.com/assets/colab-badge.svg\" alt=\"Open In Colab\"/></a>"
      ]
    },
    {
      "cell_type": "markdown",
      "source": [
        "#Pandas Comparison With SQL"
      ],
      "metadata": {
        "id": "OL76S0Cb8S6F"
      }
    },
    {
      "cell_type": "markdown",
      "source": [
        "##SELECT"
      ],
      "metadata": {
        "id": "DEv17nrpAuGv"
      }
    },
    {
      "cell_type": "markdown",
      "source": [
        "In SQL, selection is done using a comma-separated list of columns you’d like to select (or a * to select all columns):"
      ],
      "metadata": {
        "id": "cpcT6nvJA13S"
      }
    },
    {
      "cell_type": "code",
      "execution_count": null,
      "metadata": {
        "id": "sRO7okSL8SA9"
      },
      "outputs": [],
      "source": [
        "SELECT total_bill, tip, smoker, time\n",
        "FROM tips;"
      ]
    },
    {
      "cell_type": "markdown",
      "source": [
        "With pandas, column selection is done by passing a list of column names to your DataFrame:"
      ],
      "metadata": {
        "id": "axPtgGR5BCeM"
      }
    },
    {
      "cell_type": "code",
      "source": [
        "In [6]: tips[[\"total_bill\", \"tip\", \"smoker\", \"time\"]]\n",
        "Out[6]:\n",
        "     total_bill   tip smoker    time\n",
        "0         16.99  1.01     No  Dinner\n",
        "1         10.34  1.66     No  Dinner\n",
        "2         21.01  3.50     No  Dinner\n",
        "3         23.68  3.31     No  Dinner\n",
        "4         24.59  3.61     No  Dinner\n",
        "..          ...   ...    ...     ...\n",
        "239       29.03  5.92     No  Dinner\n",
        "240       27.18  2.00    Yes  Dinner\n",
        "241       22.67  2.00    Yes  Dinner\n",
        "242       17.82  1.75     No  Dinner\n",
        "243       18.78  3.00     No  Dinner\n",
        "\n",
        "[244 rows x 4 columns]"
      ],
      "metadata": {
        "id": "vOWZjATwBBNY"
      },
      "execution_count": null,
      "outputs": []
    },
    {
      "cell_type": "markdown",
      "source": [
        "Calling the DataFrame without the list of column names would display all columns (akin to SQL’s *).\n",
        "\n",
        "In SQL, you can add a calculated column:"
      ],
      "metadata": {
        "id": "rcDt1ZhCBRef"
      }
    },
    {
      "cell_type": "code",
      "source": [
        "SELECT *, tip/total_bill as tip_rate\n",
        "FROM tips;"
      ],
      "metadata": {
        "id": "V2MRuAJ1Ba2H"
      },
      "execution_count": null,
      "outputs": []
    },
    {
      "cell_type": "markdown",
      "source": [
        "With pandas, you can use the DataFrame.assign() method of a DataFrame to append a new column:"
      ],
      "metadata": {
        "id": "bMrDnRX6BQ7V"
      }
    },
    {
      "cell_type": "code",
      "source": [
        "In [7]: tips.assign(tip_rate=tips[\"tip\"] / tips[\"total_bill\"])\n",
        "Out[7]:\n",
        "     total_bill   tip     sex smoker   day    time  size  tip_rate\n",
        "0         16.99  1.01  Female     No   Sun  Dinner     2  0.059447\n",
        "1         10.34  1.66    Male     No   Sun  Dinner     3  0.160542\n",
        "2         21.01  3.50    Male     No   Sun  Dinner     3  0.166587\n",
        "3         23.68  3.31    Male     No   Sun  Dinner     2  0.139780\n",
        "4         24.59  3.61  Female     No   Sun  Dinner     4  0.146808\n",
        "..          ...   ...     ...    ...   ...     ...   ...       ...\n",
        "239       29.03  5.92    Male     No   Sat  Dinner     3  0.203927\n",
        "240       27.18  2.00  Female    Yes   Sat  Dinner     2  0.073584\n",
        "241       22.67  2.00    Male    Yes   Sat  Dinner     2  0.088222\n",
        "242       17.82  1.75    Male     No   Sat  Dinner     2  0.098204\n",
        "243       18.78  3.00  Female     No  Thur  Dinner     2  0.159744\n",
        "\n",
        "[244 rows x 8 columns]"
      ],
      "metadata": {
        "id": "pULtejKsBgKc"
      },
      "execution_count": null,
      "outputs": []
    },
    {
      "cell_type": "markdown",
      "source": [
        "##WHERE"
      ],
      "metadata": {
        "id": "hTr02igqBlFz"
      }
    },
    {
      "cell_type": "markdown",
      "source": [
        "Filtering in SQL is done via a WHERE clause."
      ],
      "metadata": {
        "id": "besoaibGBvAm"
      }
    },
    {
      "cell_type": "code",
      "source": [
        "SELECT *\n",
        "FROM tips\n",
        "WHERE time = 'Dinner';"
      ],
      "metadata": {
        "id": "o71MhX0sBgyU"
      },
      "execution_count": null,
      "outputs": []
    },
    {
      "cell_type": "markdown",
      "source": [
        "DataFrames can be filtered in multiple ways; the most intuitive of which is using boolean indexing."
      ],
      "metadata": {
        "id": "manXBhVtBzxQ"
      }
    },
    {
      "cell_type": "code",
      "source": [
        "In [8]: tips[tips[\"total_bill\"] > 10]\n",
        "Out[8]:\n",
        "     total_bill   tip     sex smoker   day    time  size\n",
        "0         16.99  1.01  Female     No   Sun  Dinner     2\n",
        "1         10.34  1.66    Male     No   Sun  Dinner     3\n",
        "2         21.01  3.50    Male     No   Sun  Dinner     3\n",
        "3         23.68  3.31    Male     No   Sun  Dinner     2\n",
        "4         24.59  3.61  Female     No   Sun  Dinner     4\n",
        "..          ...   ...     ...    ...   ...     ...   ...\n",
        "239       29.03  5.92    Male     No   Sat  Dinner     3\n",
        "240       27.18  2.00  Female    Yes   Sat  Dinner     2\n",
        "241       22.67  2.00    Male    Yes   Sat  Dinner     2\n",
        "242       17.82  1.75    Male     No   Sat  Dinner     2\n",
        "243       18.78  3.00  Female     No  Thur  Dinner     2\n",
        "\n",
        "[227 rows x 7 columns]"
      ],
      "metadata": {
        "id": "-E9Ko_J4B2oa"
      },
      "execution_count": null,
      "outputs": []
    },
    {
      "cell_type": "markdown",
      "source": [
        "The above statement is simply passing a Series of True/False objects to the DataFrame, returning all rows with True."
      ],
      "metadata": {
        "id": "WGb58i3hB63Z"
      }
    },
    {
      "cell_type": "code",
      "source": [
        "In [9]: is_dinner = tips[\"time\"] == \"Dinner\"\n",
        "\n",
        "In [10]: is_dinner\n",
        "Out[10]:\n",
        "0      True\n",
        "1      True\n",
        "2      True\n",
        "3      True\n",
        "4      True\n",
        "       ...\n",
        "239    True\n",
        "240    True\n",
        "241    True\n",
        "242    True\n",
        "243    True\n",
        "Name: time, Length: 244, dtype: bool\n",
        "\n",
        "In [11]: is_dinner.value_counts()\n",
        "Out[11]:\n",
        "time\n",
        "True     176\n",
        "False     68\n",
        "Name: count, dtype: int64\n",
        "\n",
        "In [12]: tips[is_dinner]\n",
        "Out[12]:\n",
        "     total_bill   tip     sex smoker   day    time  size\n",
        "0         16.99  1.01  Female     No   Sun  Dinner     2\n",
        "1         10.34  1.66    Male     No   Sun  Dinner     3\n",
        "2         21.01  3.50    Male     No   Sun  Dinner     3\n",
        "3         23.68  3.31    Male     No   Sun  Dinner     2\n",
        "4         24.59  3.61  Female     No   Sun  Dinner     4\n",
        "..          ...   ...     ...    ...   ...     ...   ...\n",
        "239       29.03  5.92    Male     No   Sat  Dinner     3\n",
        "240       27.18  2.00  Female    Yes   Sat  Dinner     2\n",
        "241       22.67  2.00    Male    Yes   Sat  Dinner     2\n",
        "242       17.82  1.75    Male     No   Sat  Dinner     2\n",
        "243       18.78  3.00  Female     No  Thur  Dinner     2\n",
        "\n",
        "[176 rows x 7 columns]"
      ],
      "metadata": {
        "id": "toMeDZoRCIco"
      },
      "execution_count": null,
      "outputs": []
    },
    {
      "cell_type": "markdown",
      "source": [
        "Just like SQL’s OR and AND, multiple conditions can be passed to a DataFrame using | (OR) and & (AND).\n",
        "\n",
        "Tips of more than $5 at Dinner meals:"
      ],
      "metadata": {
        "id": "M4atntABCmAv"
      }
    },
    {
      "cell_type": "code",
      "source": [
        "SELECT *\n",
        "FROM tips\n",
        "WHERE time = 'Dinner' AND tip > 5.00;"
      ],
      "metadata": {
        "id": "srQdpJLNCotX"
      },
      "execution_count": null,
      "outputs": []
    },
    {
      "cell_type": "code",
      "source": [
        "In [13]: tips[(tips[\"time\"] == \"Dinner\") & (tips[\"tip\"] > 5.00)]\n",
        "Out[13]:\n",
        "     total_bill    tip     sex smoker  day    time  size\n",
        "23        39.42   7.58    Male     No  Sat  Dinner     4\n",
        "44        30.40   5.60    Male     No  Sun  Dinner     4\n",
        "47        32.40   6.00    Male     No  Sun  Dinner     4\n",
        "52        34.81   5.20  Female     No  Sun  Dinner     4\n",
        "59        48.27   6.73    Male     No  Sat  Dinner     4\n",
        "116       29.93   5.07    Male     No  Sun  Dinner     4\n",
        "155       29.85   5.14  Female     No  Sun  Dinner     5\n",
        "170       50.81  10.00    Male    Yes  Sat  Dinner     3\n",
        "172        7.25   5.15    Male    Yes  Sun  Dinner     2\n",
        "181       23.33   5.65    Male    Yes  Sun  Dinner     2\n",
        "183       23.17   6.50    Male    Yes  Sun  Dinner     4\n",
        "211       25.89   5.16    Male    Yes  Sat  Dinner     4\n",
        "212       48.33   9.00    Male     No  Sat  Dinner     4\n",
        "214       28.17   6.50  Female    Yes  Sat  Dinner     3\n",
        "239       29.03   5.92    Male     No  Sat  Dinner     3"
      ],
      "metadata": {
        "id": "YEXoB-DoCubN"
      },
      "execution_count": null,
      "outputs": []
    },
    {
      "cell_type": "markdown",
      "source": [
        "Tips by parties of at least 5 diners OR bill total was more than $45:"
      ],
      "metadata": {
        "id": "zjzbVO-TCrYO"
      }
    },
    {
      "cell_type": "code",
      "source": [
        "SELECT *\n",
        "FROM tips\n",
        "WHERE size >= 5 OR total_bill > 45;"
      ],
      "metadata": {
        "id": "oOZRg-dTC1aT"
      },
      "execution_count": null,
      "outputs": []
    },
    {
      "cell_type": "code",
      "source": [
        "In [14]: tips[(tips[\"size\"] >= 5) | (tips[\"total_bill\"] > 45)]\n",
        "Out[14]:\n",
        "     total_bill    tip     sex smoker   day    time  size\n",
        "59        48.27   6.73    Male     No   Sat  Dinner     4\n",
        "125       29.80   4.20  Female     No  Thur   Lunch     6\n",
        "141       34.30   6.70    Male     No  Thur   Lunch     6\n",
        "142       41.19   5.00    Male     No  Thur   Lunch     5\n",
        "143       27.05   5.00  Female     No  Thur   Lunch     6\n",
        "155       29.85   5.14  Female     No   Sun  Dinner     5\n",
        "156       48.17   5.00    Male     No   Sun  Dinner     6\n",
        "170       50.81  10.00    Male    Yes   Sat  Dinner     3\n",
        "182       45.35   3.50    Male    Yes   Sun  Dinner     3\n",
        "185       20.69   5.00    Male     No   Sun  Dinner     5\n",
        "187       30.46   2.00    Male    Yes   Sun  Dinner     5\n",
        "212       48.33   9.00    Male     No   Sat  Dinner     4\n",
        "216       28.15   3.00    Male    Yes   Sat  Dinner     5"
      ],
      "metadata": {
        "id": "HA8KjHZTC5Zf"
      },
      "execution_count": null,
      "outputs": []
    },
    {
      "cell_type": "markdown",
      "source": [
        "Assume we have a table of the same structure as our DataFrame above. We can see only the records where col2 IS NULL with the following query:"
      ],
      "metadata": {
        "id": "e5n1DrLvCrUz"
      }
    },
    {
      "cell_type": "code",
      "source": [
        "SELECT *\n",
        "FROM frame\n",
        "WHERE col2 IS NULL;"
      ],
      "metadata": {
        "id": "3u9v9XqeC-Qq"
      },
      "execution_count": null,
      "outputs": []
    },
    {
      "cell_type": "markdown",
      "source": [
        "NULL checking is done using the notna() and isna() methods."
      ],
      "metadata": {
        "id": "hef8gtsODPDv"
      }
    },
    {
      "cell_type": "code",
      "source": [
        "frame[frame[\"col2\"].isna()]"
      ],
      "metadata": {
        "id": "zMoaPSzsDQ7i"
      },
      "execution_count": null,
      "outputs": []
    },
    {
      "cell_type": "markdown",
      "source": [
        "Getting items where col1 IS NOT NULL can be done with notna()."
      ],
      "metadata": {
        "id": "WrW83FyWDfx_"
      }
    },
    {
      "cell_type": "code",
      "source": [
        "SELECT *\n",
        "FROM frame\n",
        "WHERE col1 IS NOT NULL;"
      ],
      "metadata": {
        "id": "8Ahc-F-QDgdY"
      },
      "execution_count": null,
      "outputs": []
    },
    {
      "cell_type": "code",
      "source": [
        "frame[frame[\"col1\"].notna()]"
      ],
      "metadata": {
        "id": "1DvGgMRaDmzA"
      },
      "execution_count": null,
      "outputs": []
    },
    {
      "cell_type": "markdown",
      "source": [
        "##GROUP BY"
      ],
      "metadata": {
        "id": "I0NLxrzeDlAi"
      }
    },
    {
      "cell_type": "markdown",
      "source": [
        "In pandas, SQL’s GROUP BY operations are performed using the similarly named groupby() method. groupby() typically refers to a process where we’d like to split a dataset into groups, apply some function (typically aggregation) , and then combine the groups together."
      ],
      "metadata": {
        "id": "87GVw_TNDk1X"
      }
    },
    {
      "cell_type": "markdown",
      "source": [
        "A common SQL operation would be getting the count of records in each group throughout a dataset. For instance, a query getting us the number of tips left by sex"
      ],
      "metadata": {
        "id": "xLi4NGMEDknl"
      }
    },
    {
      "cell_type": "code",
      "source": [
        "SELECT sex, count(*)\n",
        "FROM tips\n",
        "GROUP BY sex;"
      ],
      "metadata": {
        "id": "pI2MNsUDD_F0"
      },
      "execution_count": null,
      "outputs": []
    },
    {
      "cell_type": "markdown",
      "source": [
        "The pandas equivalent would be:"
      ],
      "metadata": {
        "id": "M-bj14jWDkVm"
      }
    },
    {
      "cell_type": "code",
      "source": [
        "tips.groupby(\"sex\").size()"
      ],
      "metadata": {
        "id": "OcurzZ8CEJhu"
      },
      "execution_count": null,
      "outputs": []
    },
    {
      "cell_type": "markdown",
      "source": [
        "Notice that in the pandas code we used DataFrameGroupBy.size() and not DataFrameGroupBy.count(). This is because DataFrameGroupBy.count() applies the function to each column, returning the number of NOT NULL records within each."
      ],
      "metadata": {
        "id": "CVtLsZ4LDkEq"
      }
    },
    {
      "cell_type": "code",
      "source": [
        "tips.groupby(\"sex\").count()"
      ],
      "metadata": {
        "id": "qWN5neYrEO6N"
      },
      "execution_count": null,
      "outputs": []
    },
    {
      "cell_type": "markdown",
      "source": [
        "Alternatively, we could have applied the DataFrameGroupBy.count() method to an individual column:"
      ],
      "metadata": {
        "id": "mkD6alhnEU7q"
      }
    },
    {
      "cell_type": "code",
      "source": [
        "tips.groupby(\"sex\")[\"total_bill\"].count()"
      ],
      "metadata": {
        "id": "BECNbNHCEWMx"
      },
      "execution_count": null,
      "outputs": []
    },
    {
      "cell_type": "markdown",
      "source": [
        "Multiple functions can also be applied at once. For instance, say we’d like to see how tip amount differs by day of the week - DataFrameGroupBy.agg() allows you to pass a dictionary to your grouped DataFrame, indicating which functions to apply to specific columns."
      ],
      "metadata": {
        "id": "SfFf8tqOEdMt"
      }
    },
    {
      "cell_type": "code",
      "source": [
        "SELECT day, AVG(tip), COUNT(*)\n",
        "FROM tips\n",
        "GROUP BY day;"
      ],
      "metadata": {
        "id": "TgKqIN8xEj_P"
      },
      "execution_count": null,
      "outputs": []
    },
    {
      "cell_type": "code",
      "source": [
        "tips.groupby(\"day\").agg({\"tip\": \"mean\", \"day\": \"size\"})"
      ],
      "metadata": {
        "id": "RzYioq0eEnBz"
      },
      "execution_count": null,
      "outputs": []
    },
    {
      "cell_type": "markdown",
      "source": [
        "Grouping by more than one column is done by passing a list of columns to the groupby() method."
      ],
      "metadata": {
        "id": "cEksuhoMExVI"
      }
    },
    {
      "cell_type": "code",
      "source": [
        "SELECT smoker, day, COUNT(*), AVG(tip)\n",
        "FROM tips\n",
        "GROUP BY smoker, day;"
      ],
      "metadata": {
        "id": "zrluFKt6EyHN"
      },
      "execution_count": null,
      "outputs": []
    },
    {
      "cell_type": "code",
      "source": [
        "tips.groupby([\"smoker\", \"day\"]).agg({\"tip\": [\"size\", \"mean\"]})"
      ],
      "metadata": {
        "id": "reBmbdNYE1tk"
      },
      "execution_count": null,
      "outputs": []
    },
    {
      "cell_type": "markdown",
      "source": [
        "##JOIN"
      ],
      "metadata": {
        "id": "e_qwcRV2E2EN"
      }
    },
    {
      "cell_type": "markdown",
      "source": [
        "JOINs can be performed with join() or merge(). By default, join() will join the DataFrames on their indices. Each method has parameters allowing you to specify the type of join to perform (LEFT, RIGHT, INNER, FULL) or the columns to join on (column names or indices)."
      ],
      "metadata": {
        "id": "ZMFkL85FFDvo"
      }
    },
    {
      "cell_type": "markdown",
      "source": [
        "\n",
        "WARNING!!!\n",
        "\n",
        "If both key columns contain rows where the key is a null value, those rows will be matched against each other. This is different from usual SQL join behaviour and can lead to unexpected results."
      ],
      "metadata": {
        "id": "Sa0OKuQZFKTo"
      }
    },
    {
      "cell_type": "code",
      "source": [
        "In [24]: df1 = pd.DataFrame({\"key\": [\"A\", \"B\", \"C\", \"D\"], \"value\": np.random.randn(4)})\n",
        "\n",
        "In [25]: df2 = pd.DataFrame({\"key\": [\"B\", \"D\", \"D\", \"E\"], \"value\": np.random.randn(4)})"
      ],
      "metadata": {
        "id": "8qHNRWTqFG_h"
      },
      "execution_count": null,
      "outputs": []
    },
    {
      "cell_type": "markdown",
      "source": [
        "Assume we have two database tables of the same name and structure as our DataFrames.\n",
        "\n",
        "Now let’s go over the various types of JOINs."
      ],
      "metadata": {
        "id": "YLa6rp9hFiRe"
      }
    },
    {
      "cell_type": "markdown",
      "source": [
        "###INNER JOIN"
      ],
      "metadata": {
        "id": "EZPWeEP5fdgW"
      }
    },
    {
      "cell_type": "code",
      "source": [
        "SELECT *\n",
        "FROM df1\n",
        "INNER JOIN df2\n",
        "  ON df1.key = df2.key;"
      ],
      "metadata": {
        "id": "VGqa2784Fk6k"
      },
      "execution_count": null,
      "outputs": []
    },
    {
      "cell_type": "code",
      "source": [
        "# merge performs an INNER JOIN by default\n",
        "pd.merge(df1, df2, on=\"key\")"
      ],
      "metadata": {
        "id": "eklolfGMFqsj"
      },
      "execution_count": null,
      "outputs": []
    },
    {
      "cell_type": "markdown",
      "source": [
        "merge() also offers parameters for cases when you’d like to join one DataFrame’s column with another DataFrame’s index."
      ],
      "metadata": {
        "id": "uJY9Vpb1Fpms"
      }
    },
    {
      "cell_type": "code",
      "source": [
        "In [27]: indexed_df2 = df2.set_index(\"key\")\n",
        "\n",
        "In [28]: pd.merge(df1, indexed_df2, left_on=\"key\", right_index=True)\n"
      ],
      "metadata": {
        "id": "s_Y2T4RhF3ia"
      },
      "execution_count": null,
      "outputs": []
    },
    {
      "cell_type": "markdown",
      "source": [
        "###LEFT OUTER JOIN"
      ],
      "metadata": {
        "id": "9IX-KyHDfqeT"
      }
    },
    {
      "cell_type": "markdown",
      "source": [
        "Show all records from df1."
      ],
      "metadata": {
        "id": "sEnbsliNfuaC"
      }
    },
    {
      "cell_type": "code",
      "source": [
        "SELECT *\n",
        "FROM df1\n",
        "LEFT OUTER JOIN df2\n",
        "  ON df1.key = df2.key;\n"
      ],
      "metadata": {
        "id": "tZQMBojJfrrO"
      },
      "execution_count": null,
      "outputs": []
    },
    {
      "cell_type": "code",
      "source": [
        "In [29]: pd.merge(df1, df2, on=\"key\", how=\"left\")\n",
        "Out[29]:\n",
        "  key   value_x   value_y\n",
        "0   A  0.469112       NaN\n",
        "1   B -0.282863  1.212112\n",
        "2   C -1.509059       NaN\n",
        "3   D -1.135632 -0.173215\n",
        "4   D -1.135632  0.119209"
      ],
      "metadata": {
        "id": "YdoEzElMfy8T"
      },
      "execution_count": null,
      "outputs": []
    },
    {
      "cell_type": "markdown",
      "source": [
        "###RIGHT JOIN"
      ],
      "metadata": {
        "id": "Zb4ZQ5gcf9JH"
      }
    },
    {
      "cell_type": "code",
      "source": [
        "SELECT *\n",
        "FROM df1\n",
        "RIGHT OUTER JOIN df2\n",
        "  ON df1.key = df2.key;"
      ],
      "metadata": {
        "id": "VZJsVL0JgAho"
      },
      "execution_count": null,
      "outputs": []
    },
    {
      "cell_type": "code",
      "source": [
        "In [30]: pd.merge(df1, df2, on=\"key\", how=\"right\")\n",
        "Out[30]:\n",
        "  key   value_x   value_y\n",
        "0   B -0.282863  1.212112\n",
        "1   D -1.135632 -0.173215\n",
        "2   D -1.135632  0.119209\n",
        "3   E       NaN -1.044236"
      ],
      "metadata": {
        "id": "O1BDLPG1gEIM"
      },
      "execution_count": null,
      "outputs": []
    },
    {
      "cell_type": "markdown",
      "source": [
        "###FULL JOIN"
      ],
      "metadata": {
        "id": "oli4BQrogIyl"
      }
    },
    {
      "cell_type": "markdown",
      "source": [
        "pandas also allows for FULL JOINs, which display both sides of the dataset, whether or not the joined columns find a match. As of writing, FULL JOINs are not supported in all RDBMS (MySQL).\n",
        "\n",
        "Show all records from both tables."
      ],
      "metadata": {
        "id": "uunx_mFsgMli"
      }
    },
    {
      "cell_type": "code",
      "source": [
        "SELECT *\n",
        "FROM df1\n",
        "FULL OUTER JOIN df2\n",
        "  ON df1.key = df2.key;"
      ],
      "metadata": {
        "id": "gm8Jk1kKgJ_1"
      },
      "execution_count": null,
      "outputs": []
    },
    {
      "cell_type": "code",
      "source": [
        "In [31]: pd.merge(df1, df2, on=\"key\", how=\"outer\")\n",
        "Out[31]:\n",
        "  key   value_x   value_y\n",
        "0   A  0.469112       NaN\n",
        "1   B -0.282863  1.212112\n",
        "2   C -1.509059       NaN\n",
        "3   D -1.135632 -0.173215\n",
        "4   D -1.135632  0.119209\n",
        "5   E       NaN -1.044236"
      ],
      "metadata": {
        "id": "l3e57dZIgSO7"
      },
      "execution_count": null,
      "outputs": []
    },
    {
      "cell_type": "markdown",
      "source": [
        "##UNINON"
      ],
      "metadata": {
        "id": "JdStpCNegVJX"
      }
    },
    {
      "cell_type": "markdown",
      "source": [
        "UNION ALL can be performed using concat()"
      ],
      "metadata": {
        "id": "jH12lSeCgbsE"
      }
    },
    {
      "cell_type": "code",
      "source": [
        "In [32]: df1 = pd.DataFrame(\n",
        "   ....:     {\"city\": [\"Chicago\", \"San Francisco\", \"New York City\"], \"rank\": range(1, 4)}\n",
        "   ....: )\n",
        "   ....:\n",
        "\n",
        "In [33]: df2 = pd.DataFrame(\n",
        "   ....:     {\"city\": [\"Chicago\", \"Boston\", \"Los Angeles\"], \"rank\": [1, 4, 5]}\n",
        "   ....: )\n",
        "   ....:"
      ],
      "metadata": {
        "id": "IK-BAFhLgYyF"
      },
      "execution_count": null,
      "outputs": []
    },
    {
      "cell_type": "code",
      "source": [
        "SELECT city, rank\n",
        "FROM df1\n",
        "UNION ALL\n",
        "SELECT city, rank\n",
        "FROM df2;\n",
        "/*\n",
        "         city  rank\n",
        "      Chicago     1\n",
        "San Francisco     2\n",
        "New York City     3\n",
        "      Chicago     1\n",
        "       Boston     4\n",
        "  Los Angeles     5\n",
        "*/"
      ],
      "metadata": {
        "id": "hp4ZTHl4ggYi"
      },
      "execution_count": null,
      "outputs": []
    },
    {
      "cell_type": "code",
      "source": [
        "In [34]: pd.concat([df1, df2])\n",
        "Out[34]:\n",
        "            city  rank\n",
        "0        Chicago     1\n",
        "1  San Francisco     2\n",
        "2  New York City     3\n",
        "0        Chicago     1\n",
        "1         Boston     4\n",
        "2    Los Angeles     5"
      ],
      "metadata": {
        "id": "cOs8PJz1gkMq"
      },
      "execution_count": null,
      "outputs": []
    },
    {
      "cell_type": "markdown",
      "source": [
        "SQL’s UNION is similar to UNION ALL, however UNION will remove duplicate rows."
      ],
      "metadata": {
        "id": "U_91vHgCgsMd"
      }
    },
    {
      "cell_type": "code",
      "source": [
        "SELECT city, rank\n",
        "FROM df1\n",
        "UNION\n",
        "SELECT city, rank\n",
        "FROM df2;\n",
        "-- notice that there is only one Chicago record this time\n",
        "/*\n",
        "         city  rank\n",
        "      Chicago     1\n",
        "San Francisco     2\n",
        "New York City     3\n",
        "       Boston     4\n",
        "  Los Angeles     5\n",
        "*/"
      ],
      "metadata": {
        "id": "yHK16Td-gkJi"
      },
      "execution_count": null,
      "outputs": []
    },
    {
      "cell_type": "markdown",
      "source": [
        "In pandas, you can use concat() in conjunction with drop_duplicates()."
      ],
      "metadata": {
        "id": "jqkNlfjTg0gv"
      }
    },
    {
      "cell_type": "code",
      "source": [
        "In [35]: pd.concat([df1, df2]).drop_duplicates()\n",
        "Out[35]:\n",
        "            city  rank\n",
        "0        Chicago     1\n",
        "1  San Francisco     2\n",
        "2  New York City     3\n",
        "1         Boston     4\n",
        "2    Los Angeles     5"
      ],
      "metadata": {
        "id": "JgkMzI0rgkHr"
      },
      "execution_count": null,
      "outputs": []
    },
    {
      "cell_type": "markdown",
      "source": [
        "##LIMIT"
      ],
      "metadata": {
        "id": "CCPJn_o4hB2d"
      }
    },
    {
      "cell_type": "code",
      "source": [
        "SELECT * FROM tips\n",
        "LIMIT 10;"
      ],
      "metadata": {
        "id": "2lYl5wy5gkFt"
      },
      "execution_count": null,
      "outputs": []
    },
    {
      "cell_type": "code",
      "source": [
        "In [36]: tips.head(10)\n",
        "Out[36]:\n",
        "   total_bill   tip     sex smoker  day    time  size\n",
        "0       16.99  1.01  Female     No  Sun  Dinner     2\n",
        "1       10.34  1.66    Male     No  Sun  Dinner     3\n",
        "2       21.01  3.50    Male     No  Sun  Dinner     3\n",
        "3       23.68  3.31    Male     No  Sun  Dinner     2\n",
        "4       24.59  3.61  Female     No  Sun  Dinner     4\n",
        "5       25.29  4.71    Male     No  Sun  Dinner     4\n",
        "6        8.77  2.00    Male     No  Sun  Dinner     2\n",
        "7       26.88  3.12    Male     No  Sun  Dinner     4\n",
        "8       15.04  1.96    Male     No  Sun  Dinner     2\n",
        "9       14.78  3.23    Male     No  Sun  Dinner     2"
      ],
      "metadata": {
        "id": "yn0deqE9gkB8"
      },
      "execution_count": null,
      "outputs": []
    },
    {
      "cell_type": "markdown",
      "source": [
        "##pandas equivalents for some SQL analytic and aggregate functions"
      ],
      "metadata": {
        "id": "G_ohHeNbhMs7"
      }
    },
    {
      "cell_type": "markdown",
      "source": [
        "###Top n rows with offset"
      ],
      "metadata": {
        "id": "uiyTUSa0iEnk"
      }
    },
    {
      "cell_type": "code",
      "source": [
        "-- MySQL\n",
        "SELECT * FROM tips\n",
        "ORDER BY tip DESC\n",
        "LIMIT 10 OFFSET 5;"
      ],
      "metadata": {
        "id": "1oAR9CY9gj_M"
      },
      "execution_count": null,
      "outputs": []
    },
    {
      "cell_type": "code",
      "source": [
        "In [37]: tips.nlargest(10 + 5, columns=\"tip\").tail(10)\n",
        "Out[37]:\n",
        "     total_bill   tip     sex smoker   day    time  size\n",
        "183       23.17  6.50    Male    Yes   Sun  Dinner     4\n",
        "214       28.17  6.50  Female    Yes   Sat  Dinner     3\n",
        "47        32.40  6.00    Male     No   Sun  Dinner     4\n",
        "239       29.03  5.92    Male     No   Sat  Dinner     3\n",
        "88        24.71  5.85    Male     No  Thur   Lunch     2\n",
        "181       23.33  5.65    Male    Yes   Sun  Dinner     2\n",
        "44        30.40  5.60    Male     No   Sun  Dinner     4\n",
        "52        34.81  5.20  Female     No   Sun  Dinner     4\n",
        "85        34.83  5.17  Female     No  Thur   Lunch     4\n",
        "211       25.89  5.16    Male    Yes   Sat  Dinner     4"
      ],
      "metadata": {
        "id": "HASXfrT-gj8e"
      },
      "execution_count": null,
      "outputs": []
    },
    {
      "cell_type": "markdown",
      "source": [
        "###Top n rows per group"
      ],
      "metadata": {
        "id": "wQxfYM3-iP_1"
      }
    },
    {
      "cell_type": "code",
      "source": [
        "-- Oracle's ROW_NUMBER() analytic function\n",
        "SELECT * FROM (\n",
        "  SELECT\n",
        "    t.*,\n",
        "    ROW_NUMBER() OVER(PARTITION BY day ORDER BY total_bill DESC) AS rn\n",
        "  FROM tips t\n",
        ")\n",
        "WHERE rn < 3\n",
        "ORDER BY day, rn;"
      ],
      "metadata": {
        "id": "AQACHO1Ugj5o"
      },
      "execution_count": null,
      "outputs": []
    },
    {
      "cell_type": "code",
      "source": [
        "In [38]: (\n",
        "   ....:     tips.assign(\n",
        "   ....:         rn=tips.sort_values([\"total_bill\"], ascending=False)\n",
        "   ....:         .groupby([\"day\"])\n",
        "   ....:         .cumcount()\n",
        "   ....:         + 1\n",
        "   ....:     )\n",
        "   ....:     .query(\"rn < 3\")\n",
        "   ....:     .sort_values([\"day\", \"rn\"])\n",
        "   ....: )\n",
        "   ....:\n",
        "Out[38]:\n",
        "     total_bill    tip     sex smoker   day    time  size  rn\n",
        "95        40.17   4.73    Male    Yes   Fri  Dinner     4   1\n",
        "90        28.97   3.00    Male    Yes   Fri  Dinner     2   2\n",
        "170       50.81  10.00    Male    Yes   Sat  Dinner     3   1\n",
        "212       48.33   9.00    Male     No   Sat  Dinner     4   2\n",
        "156       48.17   5.00    Male     No   Sun  Dinner     6   1\n",
        "182       45.35   3.50    Male    Yes   Sun  Dinner     3   2\n",
        "197       43.11   5.00  Female    Yes  Thur   Lunch     4   1\n",
        "142       41.19   5.00    Male     No  Thur   Lunch     5   2"
      ],
      "metadata": {
        "id": "nZrTKOAwgj2U"
      },
      "execution_count": null,
      "outputs": []
    },
    {
      "cell_type": "markdown",
      "source": [
        "the same using rank(method='first') function"
      ],
      "metadata": {
        "id": "37KcH3VviYN1"
      }
    },
    {
      "cell_type": "code",
      "source": [
        "In [39]: (\n",
        "   ....:     tips.assign(\n",
        "   ....:         rnk=tips.groupby([\"day\"])[\"total_bill\"].rank(\n",
        "   ....:             method=\"first\", ascending=False\n",
        "   ....:         )\n",
        "   ....:     )\n",
        "   ....:     .query(\"rnk < 3\")\n",
        "   ....:     .sort_values([\"day\", \"rnk\"])\n",
        "   ....: )\n",
        "   ....:\n",
        "Out[39]:\n",
        "     total_bill    tip     sex smoker   day    time  size  rnk\n",
        "95        40.17   4.73    Male    Yes   Fri  Dinner     4  1.0\n",
        "90        28.97   3.00    Male    Yes   Fri  Dinner     2  2.0\n",
        "170       50.81  10.00    Male    Yes   Sat  Dinner     3  1.0\n",
        "212       48.33   9.00    Male     No   Sat  Dinner     4  2.0\n",
        "156       48.17   5.00    Male     No   Sun  Dinner     6  1.0\n",
        "182       45.35   3.50    Male    Yes   Sun  Dinner     3  2.0\n",
        "197       43.11   5.00  Female    Yes  Thur   Lunch     4  1.0\n",
        "142       41.19   5.00    Male     No  Thur   Lunch     5  2.0"
      ],
      "metadata": {
        "id": "55vaCHYqiZRM"
      },
      "execution_count": null,
      "outputs": []
    },
    {
      "cell_type": "code",
      "source": [
        "-- Oracle's RANK() analytic function\n",
        "SELECT * FROM (\n",
        "  SELECT\n",
        "    t.*,\n",
        "    RANK() OVER(PARTITION BY sex ORDER BY tip) AS rnk\n",
        "  FROM tips t\n",
        "  WHERE tip < 2\n",
        ")\n",
        "WHERE rnk < 3\n",
        "ORDER BY sex, rnk;"
      ],
      "metadata": {
        "id": "79T9nlX_ihk_"
      },
      "execution_count": null,
      "outputs": []
    },
    {
      "cell_type": "markdown",
      "source": [
        "Let’s find tips with (rank < 3) per gender group for (tips < 2). Notice that when using rank(method='min') function rnk_min remains the same for the same tip (as Oracle’s RANK() function)"
      ],
      "metadata": {
        "id": "tR7elcCuim4h"
      }
    },
    {
      "cell_type": "code",
      "source": [
        "In [40]: (\n",
        "   ....:     tips[tips[\"tip\"] < 2]\n",
        "   ....:     .assign(rnk_min=tips.groupby([\"sex\"])[\"tip\"].rank(method=\"min\"))\n",
        "   ....:     .query(\"rnk_min < 3\")\n",
        "   ....:     .sort_values([\"sex\", \"rnk_min\"])\n",
        "   ....: )\n",
        "   ....:\n",
        "Out[40]:\n",
        "     total_bill   tip     sex smoker  day    time  size  rnk_min\n",
        "67         3.07  1.00  Female    Yes  Sat  Dinner     1      1.0\n",
        "92         5.75  1.00  Female    Yes  Fri  Dinner     2      1.0\n",
        "111        7.25  1.00  Female     No  Sat  Dinner     1      1.0\n",
        "236       12.60  1.00    Male    Yes  Sat  Dinner     2      1.0\n",
        "237       32.83  1.17    Male    Yes  Sat  Dinner     2      2.0"
      ],
      "metadata": {
        "id": "Dz6lWIVGihhX"
      },
      "execution_count": null,
      "outputs": []
    },
    {
      "cell_type": "markdown",
      "source": [
        "##UPDATE"
      ],
      "metadata": {
        "id": "pq6jwGtwi9qZ"
      }
    },
    {
      "cell_type": "code",
      "source": [
        "UPDATE tips\n",
        "SET tip = tip*2\n",
        "WHERE tip < 2;"
      ],
      "metadata": {
        "id": "cubQytlriheD"
      },
      "execution_count": null,
      "outputs": []
    },
    {
      "cell_type": "code",
      "source": [
        "In [41]: tips.loc[tips[\"tip\"] < 2, \"tip\"] *= 2"
      ],
      "metadata": {
        "id": "32_zCAh_ihbU"
      },
      "execution_count": null,
      "outputs": []
    },
    {
      "cell_type": "markdown",
      "source": [
        "##DELETE"
      ],
      "metadata": {
        "id": "liahHxT2jE39"
      }
    },
    {
      "cell_type": "code",
      "source": [
        "DELETE FROM tips\n",
        "WHERE tip > 9;"
      ],
      "metadata": {
        "id": "Wy_okrNIihW9"
      },
      "execution_count": null,
      "outputs": []
    },
    {
      "cell_type": "markdown",
      "source": [
        "In pandas we select the rows that should remain instead of deleting them:"
      ],
      "metadata": {
        "id": "KmB2_CbBjMNu"
      }
    },
    {
      "cell_type": "code",
      "source": [
        "In [42]: tips = tips.loc[tips[\"tip\"] <= 9]"
      ],
      "metadata": {
        "id": "qhcrgkTDihSo"
      },
      "execution_count": null,
      "outputs": []
    },
    {
      "cell_type": "code",
      "source": [],
      "metadata": {
        "id": "lAd0CC-_ihPh"
      },
      "execution_count": null,
      "outputs": []
    },
    {
      "cell_type": "code",
      "source": [],
      "metadata": {
        "id": "fuchLsQaihLb"
      },
      "execution_count": null,
      "outputs": []
    },
    {
      "cell_type": "code",
      "source": [],
      "metadata": {
        "id": "qH660-3kihHw"
      },
      "execution_count": null,
      "outputs": []
    }
  ]
}